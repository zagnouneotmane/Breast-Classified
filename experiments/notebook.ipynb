{
 "cells": [
  {
   "cell_type": "code",
   "execution_count": 1,
   "metadata": {},
   "outputs": [
    {
     "name": "stdout",
     "output_type": "stream",
     "text": [
      "/home/ubuntu/Breast-Classified\n"
     ]
    }
   ],
   "source": [
    "import os\n",
    "os.chdir(\"../\") \n",
    "!pwd"
   ]
  },
  {
   "cell_type": "code",
   "execution_count": 54,
   "metadata": {},
   "outputs": [],
   "source": [
    "import csv\n",
    "import cv2\n",
    "import numpy as np\n",
    "import os\n",
    "import tensorflow as tf\n",
    "\n",
    "try:\n",
    "    import openslide\n",
    "except ImportError:\n",
    "    openslide = None\n",
    "\n",
    "\n",
    "class Dataset(object):\n",
    "    \"\"\" Data list CSV parser \"\"\"\n",
    "    def __init__(\n",
    "        self,\n",
    "        csv_path,\n",
    "        slide_dir,\n",
    "        slide_file_extension=\".svs\",\n",
    "        target_size=None,\n",
    "        resize_ratio=0.2,\n",
    "        slide_reader=\"openslide\",\n",
    "        snapshot_path=None,\n",
    "    ):\n",
    "        self.target_size = target_size\n",
    "        self.resize_ratio = resize_ratio\n",
    "        self.slide_reader = slide_reader\n",
    "        self.snapshot_path = snapshot_path\n",
    "\n",
    "        # Parse CSV to get paths\n",
    "        self.slide_path_list = []\n",
    "        self.y_true_list = []\n",
    "        with open(csv_path) as f:\n",
    "            reader = csv.reader(f)\n",
    "            for row in reader:\n",
    "                slide_name = row[0]\n",
    "                y_true = int(row[1])\n",
    "                slide_path = os.path.join(\n",
    "                    slide_dir, \n",
    "                    \"{}{}\".format(slide_name, slide_file_extension)\n",
    "                )\n",
    "                assert os.path.exists(slide_path), \\\n",
    "                    \"{} not found while parsing {}.\".format(slide_path, csv_path)\n",
    "                self.slide_path_list.append(slide_path)\n",
    "                self.y_true_list.append(y_true)\n",
    "\n",
    "    def __len__(self):\n",
    "        return len(self.slide_path_list)\n",
    "\n",
    "    def __getitem__(self, idx):\n",
    "        slide_path = self.slide_path_list[idx]\n",
    "        y_true = self.y_true_list[idx]\n",
    "\n",
    "        if self.slide_reader == \"openslide\":\n",
    "            img = _read_slide_openslide(slide_path, self.resize_ratio, self.target_size)\n",
    "        else:\n",
    "            raise NotImplementedError(\n",
    "                \"{} is not a supported slide reader.\".format(self.slide_reader)\n",
    "            )\n",
    "\n",
    "\n",
    "        if self.snapshot_path != None:\n",
    "            os.makedirs(self.snapshot_path, exist_ok=True)\n",
    "            img_bgr = cv2.cvtColor(img, cv2.COLOR_RGB2BGR)\n",
    "            cv2.imwrite(\n",
    "                os.path.join(self.snapshot_path, \"dataset_snapshot.tiff\"),\n",
    "                img_bgr,\n",
    "            )\n",
    "\n",
    "        return img, y_true\n",
    "\n",
    "    def get_slide_path(self, idx):\n",
    "        return self.slide_path_list[idx]\n",
    "\n",
    "    def get_y_true(self, idx):\n",
    "        return self.y_true_list[idx]\n",
    "    \n",
    "def _read_slide_openslide(\n",
    "    slide_path,\n",
    "    resize_ratio,\n",
    "    target_size=None,\n",
    "):\n",
    "    assert openslide != None, \\\n",
    "        \"Please install beforehand or select another slide loader.\"\n",
    "\n",
    "    slide = openslide.open_slide(slide_path)\n",
    "\n",
    "    if \"aperio.AppMag\" in slide.properties:\n",
    "        mag = int(float(slide.properties[\"aperio.AppMag\"]))\n",
    "        if mag >= 40:\n",
    "            pix_dim = 0.25\n",
    "        elif mag <= 20:\n",
    "            pix_dim = 0.5\n",
    "        else:\n",
    "            assert False\n",
    "        hamamatsu_pix_dim = 0.46\n",
    "        resize_ratio = resize_ratio * (pix_dim / hamamatsu_pix_dim)\n",
    "\n",
    "    w, h = slide.dimensions\n",
    "    if target_size == None:\n",
    "        target_size = (int(w * resize_ratio), int(h * resize_ratio))\n",
    "\n",
    "    def get_region(loc_w, loc_h, src_sz_w, src_sz_h, req_sz_w, req_sz_h):\n",
    "        downsample_factor_w = src_sz_w / req_sz_w\n",
    "        downsample_factor_h = src_sz_h / req_sz_h\n",
    "        downsample_factor = min(downsample_factor_w, downsample_factor_h)\n",
    "\n",
    "        target_level = 0\n",
    "        for level in range(len(slide.level_downsamples)):\n",
    "            if slide.level_downsamples[level] <= downsample_factor:\n",
    "                target_level = level\n",
    "\n",
    "        src_sz_w_downsampled = int(src_sz_w / slide.level_downsamples[target_level])\n",
    "        src_sz_h_downsampled = int(src_sz_h / slide.level_downsamples[target_level])\n",
    "\n",
    "        img_rgba = slide.read_region(\n",
    "            location=(loc_w, loc_h),\n",
    "            level=target_level,\n",
    "            size=(src_sz_w_downsampled, src_sz_h_downsampled)\n",
    "        )\n",
    "\n",
    "        img_rgba = np.array(img_rgba)\n",
    "        img_rgb = cv2.cvtColor(img_rgba, cv2.COLOR_RGBA2RGB)\n",
    "        img = cv2.resize(img_rgb, (req_sz_w, req_sz_h), interpolation=cv2.INTER_CUBIC)\n",
    "        return img\n",
    "\n",
    "    img = _read_slide(\n",
    "        slide_path,\n",
    "        get_region,\n",
    "        (0, 0),\n",
    "        (w, h),\n",
    "        target_size,\n",
    "        resize_ratio,\n",
    "    )\n",
    "    return img\n",
    "\n",
    "def _read_slide(\n",
    "    slide_path,\n",
    "    get_region_fn,\n",
    "    coord,\n",
    "    src_sz,\n",
    "    dst_sz,\n",
    "    resize_ratio,\n",
    "):\n",
    "    loc_w, loc_h = coord\n",
    "    src_sz_w, src_sz_h = src_sz\n",
    "    dst_sz_w, dst_sz_h = dst_sz\n",
    "\n",
    "    # Get resized image\n",
    "    req_sz_w, req_sz_h = int(src_sz_w * resize_ratio), int(src_sz_h * resize_ratio)\n",
    "    img = get_region_fn(loc_w, loc_h, src_sz_w, src_sz_h, req_sz_w, req_sz_h)\n",
    "   \n",
    "    # Do cropping and pirnt warning\n",
    "    h, w, c = img.shape\n",
    "    cropped = False\n",
    "    if w > dst_sz_w:\n",
    "        index = int(w - dst_sz_w) // 2\n",
    "        img = img[:, index: (index + dst_sz_w), :]\n",
    "        cropped = True\n",
    "    if h > dst_sz_h:\n",
    "        index = int(h - dst_sz_h) // 2\n",
    "        img = img[index: (index + dst_sz_h), :, :]\n",
    "        cropped = True\n",
    "\n",
    "    if cropped:\n",
    "        print('Slide {} with original size {}x{}, resized size {}x{} exceeds the target size {}x{}. Crop it.'.format(\n",
    "            slide_path, src_sz_w, src_sz_h, w, h, dst_sz_w, dst_sz_h\n",
    "        ))\n",
    "     \n",
    "    # Do pading\n",
    "    pad_color = (255, 255, 255)\n",
    "    h, w, c = img.shape\n",
    "    if w < dst_sz_w:\n",
    "        l = (int(dst_sz_w - w)) // 2\n",
    "        r = dst_sz_w - w - l\n",
    "    else:\n",
    "        l = 0\n",
    "        r = 0\n",
    "    if h < dst_sz_h:\n",
    "        t = (int(dst_sz_h - h)) // 2\n",
    "        b = dst_sz_h - h - t\n",
    "    else:\n",
    "        t = 0\n",
    "        b = 0\n",
    "    img = cv2.copyMakeBorder(\n",
    "        img, t, b, l, r,\n",
    "        cv2.BORDER_CONSTANT, value=pad_color\n",
    "    )\n",
    "\n",
    "    return img\n"
   ]
  },
  {
   "cell_type": "code",
   "execution_count": 13,
   "metadata": {},
   "outputs": [],
   "source": [
    "import cv2\n",
    "from imgaug import augmenters as iaa\n",
    "import numpy as np\n",
    "import os\n",
    "from PIL import Image, ImageOps\n",
    "import tensorflow as tf\n",
    "import time\n",
    "import traceback\n",
    "import joblib\n",
    "from pathlib import Path\n",
    "\n",
    "def preprocess_input(img):\n",
    "    return (np.array(img).astype(np.float32) - 127.5) / 127.5\n",
    "\n",
    "def inverse_preprocess_input(img):\n",
    "    x = np.array(img) * 127.5 + 127.5\n",
    "    x = np.minimum(255.0, np.maximum(0.0, x))\n",
    "    x = x.astype(np.uint8)\n",
    "    return x\n",
    "\n",
    "class WholeSlideDataloader(tf.keras.utils.Sequence):\n",
    "    def __init__(\n",
    "        self, \n",
    "        dataset,\n",
    "        augment,\n",
    "        shuffle,\n",
    "        num_classes,\n",
    "        batch_size=1,\n",
    "        snapshot_path=None,\n",
    "    ):\n",
    "        self.dataset = dataset\n",
    "        self.augment = augment\n",
    "        self.shuffle = shuffle\n",
    "        self.num_classes = num_classes\n",
    "        self.batch_size = batch_size\n",
    "        self.snapshot_path = snapshot_path\n",
    "\n",
    "        self._reinit_shuffle_list()\n",
    "    def _reinit_shuffle_list(self):\n",
    "        self.shuffle_list = np.arange(len(self.dataset))\n",
    "        if self.shuffle:\n",
    "            np.random.shuffle(self.shuffle_list)\n",
    "\n",
    "    def __len__(self):\n",
    "        return len(self.dataset) // self.batch_size\n",
    "\n",
    "    def __getitem__(self, idx):\n",
    "        begin_idx = idx * self.batch_size\n",
    "        end_idx = (idx + 1) * self.batch_size\n",
    "\n",
    "        x_batch = []\n",
    "        y_batch = []\n",
    "        for shuffle_list_idx in range(begin_idx, end_idx):\n",
    "            dataset_idx = self.shuffle_list[shuffle_list_idx]\n",
    "            loaded = False\n",
    "            while not loaded:\n",
    "                try:\n",
    "                    img, label = self.dataset[dataset_idx]\n",
    "                    loaded = True\n",
    "                except Exception as e:\n",
    "                    print(traceback.format_exc())\n",
    "                    print(\n",
    "                        \"Error occurs while loading {} . Retry after 5 seconds.\".format(\n",
    "                            self.dataset.get_slide_path(dataset_idx)\n",
    "                        )\n",
    "                    )\n",
    "                    time.sleep(5)\n",
    "\n",
    "            if self.augment:\n",
    "                if img.size < 4 * 1024 * 1024 * 1024:\n",
    "                    img = _get_augmentor().augment_image(img)\n",
    "                else:\n",
    "                    # If the image is too large, imgaug will fail on affine transformation. Use PIL instead.\n",
    "                    img = _get_augmentor_wo_affine().augment_image(img)\n",
    "                    img = Image.fromarray(img)\n",
    "                    angle = np.random.uniform(0.0, 360.0)\n",
    "                    translate = tuple(np.random.randint(-220, 220, size=[2]))\n",
    "                    img = img.rotate(angle, resample=Image.NEAREST, translate=translate, fillcolor=(255, 255, 255))\n",
    "                    img = np.array(img)\n",
    "\n",
    "            if self.snapshot_path != None:\n",
    "                os.makedirs(self.snapshot_path, exist_ok=True)\n",
    "                img_bgr = cv2.cvtColor(img, cv2.COLOR_RGB2BGR)\n",
    "                cv2.imwrite(\n",
    "                    os.path.join(self.snapshot_path, \"dataloader_snapshot.tiff\"),\n",
    "                    img_bgr,\n",
    "                )\n",
    "\n",
    "            img = preprocess_input(img)\n",
    "            y = np.zeros(shape=[self.num_classes])\n",
    "            y[label] = 1.0\n",
    "            \n",
    "            x_batch.append(img)\n",
    "            y_batch.append(y)\n",
    "        return np.array(x_batch), np.array(y_batch)\n",
    "\n",
    "    def on_epoch_end(self):\n",
    "        self._reinit_shuffle_list()\n",
    "\n",
    "    def get_slide_path(self, idx):\n",
    "        dataset_idx = self.shuffle_list[idx]\n",
    "        return self.dataset.get_slide_path(dataset_idx)\n",
    "\n",
    "    def get_y_true(self, idx):\n",
    "        dataset_idx = self.shuffle_list[idx]\n",
    "        return self.dataset.get_y_true(dataset_idx)\n",
    "\n",
    "    def get_dataset_idx(self, idx):\n",
    "        return self.shuffle_list[idx]\n",
    "\n",
    "    \n",
    "\n",
    "def _get_augmentor():\n",
    "    augmentation = iaa.Sequential([\n",
    "        iaa.Fliplr(0.5, name=\"FlipLR\"),\n",
    "        iaa.Flipud(0.5, name=\"FlipUD\"),\n",
    "        iaa.Affine(\n",
    "            translate_percent=(-0.025, 0.025),\n",
    "            rotate=(0, 360),\n",
    "            order=3, # Bicubic interpolation\n",
    "            cval=255,\n",
    "            mode='constant',\n",
    "            name='affine',\n",
    "        ),\n",
    "        iaa.contrast.LinearContrast(alpha=(0.5, 1.5)),\n",
    "        iaa.color.MultiplyBrightness(mul=(0.65, 1.35)),\n",
    "        iaa.color.AddToHueAndSaturation(value=(-32, 32), per_channel=True),\n",
    "    ])    \n",
    "    return augmentation\n",
    "\n",
    "def _get_augmentor_wo_affine():\n",
    "    augmentation = iaa.Sequential([\n",
    "        iaa.Fliplr(0.5, name=\"FlipLR\"),\n",
    "        iaa.Flipud(0.5, name=\"FlipUD\"),\n",
    "        iaa.contrast.LinearContrast(alpha=(0.5, 1.5)),\n",
    "        iaa.color.MultiplyBrightness(mul=(0.65, 1.35)),\n",
    "        iaa.color.AddToHueAndSaturation(value=(-32, 32), per_channel=True),\n",
    "    ])    \n",
    "    return augmentation"
   ]
  },
  {
   "cell_type": "code",
   "execution_count": 14,
   "metadata": {},
   "outputs": [],
   "source": [
    "class MILDataloader(WholeSlideDataloader):\n",
    "    MIL_WHITE_THRESHOLD = 220\n",
    "    MIL_EM_GAUSSIAN_KERNEL_SIZE = 3\n",
    "    MIL_EM_P1 = 1\n",
    "    MIL_EM_P2 = 30\n",
    "\n",
    "    def __init__(\n",
    "        self, \n",
    "        dataset,\n",
    "        augment,\n",
    "        shuffle,\n",
    "        num_classes,\n",
    "        mil_model,\n",
    "        batch_size=1,\n",
    "        snapshot_path=None,\n",
    "        mil_patch_size=[224, 224],\n",
    "        mil_infer_batch_size=32,\n",
    "        mil_use_em=False,\n",
    "        mil_k=1,\n",
    "        mil_skip_white=True,\n",
    "    ):\n",
    "        super(MILDataloader, self).__init__(\n",
    "            dataset=dataset,\n",
    "            augment=augment,\n",
    "            shuffle=shuffle,\n",
    "            num_classes=num_classes,\n",
    "            batch_size=batch_size,\n",
    "            snapshot_path=snapshot_path\n",
    "        )\n",
    "        self.mil_model = mil_model\n",
    "        self.mil_patch_size = mil_patch_size\n",
    "        self.mil_infer_batch_size = mil_infer_batch_size\n",
    "        self.mil_use_em = mil_use_em\n",
    "        self.mil_k = mil_k\n",
    "        self.mil_skip_white = mil_skip_white\n",
    "            \n",
    "    def __getitem__(self, idx):\n",
    "        x_batch_wsi, y_batch_wsi = super(MILDataloader, self).__getitem__(idx)\n",
    "\n",
    "        x_batch = []\n",
    "        y_batch = []\n",
    "        for i in range(self.batch_size):\n",
    "            x = x_batch_wsi[i]\n",
    "            y = y_batch_wsi[i]\n",
    "\n",
    "            num_patch_y = x.shape[0] // self.mil_patch_size[1]\n",
    "            num_patch_x = x.shape[1] // self.mil_patch_size[0]\n",
    "\n",
    "            mil_infer_dataset = []\n",
    "            coords = []\n",
    "            for i in range(num_patch_y):\n",
    "                for j in range(num_patch_x):\n",
    "                    sliced_x = x[\n",
    "                        i * self.mil_patch_size[1]: (i + 1) * self.mil_patch_size[1],\n",
    "                        j * self.mil_patch_size[0]: (j + 1) * self.mil_patch_size[0],\n",
    "                        :,\n",
    "                    ]\n",
    "                    if (\n",
    "                        self.mil_skip_white and \n",
    "                        np.min(sliced_x) > preprocess_input(self.MIL_WHITE_THRESHOLD)\n",
    "                    ):\n",
    "                        continue\n",
    "                    mil_infer_dataset.append(sliced_x)\n",
    "                    coords.append((j, i))\n",
    "            mil_infer_dataset = np.array(mil_infer_dataset)\n",
    "\n",
    "            mil_infer_res = []\n",
    "            for begin_idx in range(0, len(mil_infer_dataset), self.mil_infer_batch_size):\n",
    "                end_idx = np.minimum(len(mil_infer_dataset), begin_idx + self.mil_infer_batch_size)\n",
    "                mil_infer_res.append(\n",
    "                    self.mil_model.predict_on_batch(\n",
    "                         mil_infer_dataset[begin_idx: end_idx]\n",
    "                    )\n",
    "                )\n",
    "              \n",
    "            mil_infer_res = np.concatenate(mil_infer_res, axis=0)\n",
    "            \n",
    "            benign_rate = mil_infer_res[:, 0]\n",
    "\n",
    "            if not self.mil_use_em:\n",
    "                print(\"useem {}\".format(self.mil_use_em))\n",
    "                top_k_indices = np.argsort(benign_rate)[0: self.mil_k]\n",
    "                for index in top_k_indices:\n",
    "                    x_batch.append(mil_infer_dataset[index])\n",
    "                    y_batch.append(y)\n",
    "            else:\n",
    "                res_map = np.zeros([num_patch_y, num_patch_x, self.num_classes - 1]) # Excluding non-cancer\n",
    "                for i in range(len(mil_infer_res)):\n",
    "                    res = mil_infer_res[i]\n",
    "                    \n",
    "                    coord = coords[i]\n",
    "                    \n",
    "                    res_map[coord[1], coord[0], :] = res[1: ]\n",
    "\n",
    "                res_map_blurred = cv2.GaussianBlur(\n",
    "                    res_map, \n",
    "                    (self.MIL_EM_GAUSSIAN_KERNEL_SIZE, self.MIL_EM_GAUSSIAN_KERNEL_SIZE),\n",
    "                    0\n",
    "                )\n",
    "                \n",
    "                if self.num_classes==2:\n",
    "                    res_map_blurred=res_map_blurred.reshape(res_map_blurred.shape[0], res_map_blurred.shape[1], 1)\n",
    "                \n",
    "                mil_infer_res_blurred = []\n",
    "                for i in range(len(mil_infer_res)):\n",
    "                    coord = coords[i]\n",
    "                    \n",
    "                    res_blurred = res_map_blurred[coord[1], coord[0], :]\n",
    "                    mil_infer_res_blurred.append(res_blurred)\n",
    "                mil_infer_res_blurred = np.array(mil_infer_res_blurred)\n",
    "                \n",
    "                thres_p1 = np.percentile(mil_infer_res_blurred, 100.0 - self.MIL_EM_P1)\n",
    "\n",
    "                select = None\n",
    "                for class_id in range(1, self.num_classes):\n",
    "                    candidates = mil_infer_res_blurred[:, class_id - 1].tolist()\n",
    "                    candidates = np.array(candidates)\n",
    "                    print(candidates.shape)\n",
    "\n",
    "                    thres_p2 = np.percentile(candidates, 100.0 - self.MIL_EM_P2)\n",
    "                    thres = np.minimum(thres_p1, thres_p2)\n",
    "                    print(thres_p1)\n",
    "                    print(thres_p2)\n",
    "\n",
    "                    if select is None:\n",
    "                        select = mil_infer_res_blurred[:, class_id - 1] > thres\n",
    "                    else:\n",
    "                        select = np.logical_or(select, mil_infer_res_blurred[:, class_id - 1] > thres)\n",
    "\n",
    "                no_selected = True\n",
    "                for i in range(len(mil_infer_res_blurred)):\n",
    "                    is_select = select[i]\n",
    "                    if is_select:\n",
    "                        x_batch.append(mil_infer_dataset[i])\n",
    "                        y_batch.append(y)\n",
    "                        no_selected = False\n",
    "\n",
    "                if no_selected:\n",
    "                    x_batch.append(mil_infer_dataset[np.argmin(benign_rate)])\n",
    "                    y_batch.append(y)\n",
    "\n",
    "        x_batch = np.array(x_batch) # The batch dimension is large as (self.batch_size * self.mil_k).\n",
    "        y_batch = np.array(y_batch)\n",
    "\n",
    "        if self.snapshot_path != None:\n",
    "            os.makedirs(self.snapshot_path, exist_ok=True)\n",
    "            img = inverse_preprocess_input(x_batch[0])\n",
    "            img_bgr = cv2.cvtColor(img, cv2.COLOR_RGB2BGR)\n",
    "            cv2.imwrite(\n",
    "                os.path.join(self.snapshot_path, \"mil_top_patch_snapshot.tiff\"),\n",
    "                img_bgr,\n",
    "            )\n",
    "\n",
    "        return x_batch, y_batch"
   ]
  },
  {
   "cell_type": "code",
   "execution_count": 15,
   "metadata": {},
   "outputs": [],
   "source": [
    "from tensorflow.keras.applications import ResNet50\n",
    "from tensorflow.keras.layers import Dense, GlobalAveragePooling2D, Input\n",
    "from tensorflow.keras.models import Model\n",
    "\n",
    "def build_resnet_model(input_shape, num_classes):\n",
    "    base_model = ResNet50(include_top=False, weights='imagenet', input_shape=input_shape)\n",
    "    \n",
    "    x = base_model.output\n",
    "    x = GlobalAveragePooling2D()(x)\n",
    "    x = Dense(1024, activation='relu')(x)\n",
    "    predictions = Dense(num_classes, activation='softmax')(x)\n",
    "    \n",
    "    model = Model(inputs=base_model.input, outputs=predictions)\n",
    "    \n",
    "    for layer in base_model.layers:\n",
    "        layer.trainable = False\n",
    "    \n",
    "    return model\n",
    "\n",
    "input_shape = (224, 224, 3)  # Adjust based on your patches\n",
    "num_classes = 2  # Replace with your number of classes\n",
    "\n",
    "model = build_resnet_model(input_shape, num_classes)\n"
   ]
  },
  {
   "cell_type": "code",
   "execution_count": 55,
   "metadata": {},
   "outputs": [],
   "source": [
    "train_dataset = Dataset(\n",
    "            csv_path=Path(\"label/breast.csv\"),\n",
    "            slide_dir=Path(\"data\"),\n",
    "            slide_file_extension=\".svs\",\n",
    "            target_size=[11500, 11500],\n",
    "            resize_ratio=0.1,\n",
    "            slide_reader=\"openslide\",\n",
    "            snapshot_path=None\n",
    "        )"
   ]
  },
  {
   "cell_type": "code",
   "execution_count": 38,
   "metadata": {},
   "outputs": [
    {
     "data": {
      "text/plain": [
       "15"
      ]
     },
     "execution_count": 38,
     "metadata": {},
     "output_type": "execute_result"
    }
   ],
   "source": [
    "len(train_dataset)"
   ]
  },
  {
   "cell_type": "code",
   "execution_count": 7,
   "metadata": {},
   "outputs": [],
   "source": [
    "\n",
    "dataloader = WholeSlideDataloader(\n",
    "            dataset=train_dataset,\n",
    "            augment=True,\n",
    "            shuffle=True,\n",
    "            num_classes=2,\n",
    "            batch_size=1,\n",
    "            snapshot_path=None\n",
    "        )"
   ]
  },
  {
   "cell_type": "code",
   "execution_count": 56,
   "metadata": {},
   "outputs": [],
   "source": [
    "train_dataloader = MILDataloader(\n",
    "            dataset=train_dataset,\n",
    "            augment=True,\n",
    "            shuffle=True,\n",
    "            num_classes=2,\n",
    "            batch_size=1,\n",
    "            snapshot_path=None,\n",
    "            mil_model=model,\n",
    "            mil_patch_size=[224,224],\n",
    "            mil_infer_batch_size=32,\n",
    "            mil_use_em=True,\n",
    "            mil_k=1,\n",
    "            mil_skip_white=True\n",
    "        )"
   ]
  },
  {
   "cell_type": "code",
   "execution_count": 10,
   "metadata": {},
   "outputs": [
    {
     "data": {
      "text/plain": [
       "15"
      ]
     },
     "execution_count": 10,
     "metadata": {},
     "output_type": "execute_result"
    }
   ],
   "source": [
    "len(train_dataloader)"
   ]
  },
  {
   "cell_type": "code",
   "execution_count": 57,
   "metadata": {},
   "outputs": [
    {
     "name": "stderr",
     "output_type": "stream",
     "text": [
      "JPEGFixupTagsSubsamplingSec: Warning, Auto-corrected former TIFF subsampling values [2,2] to match subsampling values inside JPEG compressed data [2,1].\n",
      "JPEGFixupTagsSubsamplingSec: Warning, Auto-corrected former TIFF subsampling values [2,2] to match subsampling values inside JPEG compressed data [2,1].\n",
      "JPEGFixupTagsSubsamplingSec: Warning, Auto-corrected former TIFF subsampling values [2,2] to match subsampling values inside JPEG compressed data [2,1].\n",
      "JPEGFixupTagsSubsamplingSec: Warning, Auto-corrected former TIFF subsampling values [2,2] to match subsampling values inside JPEG compressed data [2,1].\n",
      "JPEGFixupTagsSubsamplingSec: Warning, Auto-corrected former TIFF subsampling values [2,2] to match subsampling values inside JPEG compressed data [2,1].\n",
      "JPEGFixupTagsSubsamplingSec: Warning, Auto-corrected former TIFF subsampling values [2,2] to match subsampling values inside JPEG compressed data [2,1].\n",
      "JPEGFixupTagsSubsamplingSec: Warning, Auto-corrected former TIFF subsampling values [2,2] to match subsampling values inside JPEG compressed data [2,1].\n",
      "JPEGFixupTagsSubsamplingSec: Warning, Auto-corrected former TIFF subsampling values [2,2] to match subsampling values inside JPEG compressed data [2,1].\n",
      "JPEGFixupTagsSubsamplingSec: Warning, Auto-corrected former TIFF subsampling values [2,2] to match subsampling values inside JPEG compressed data [2,1].\n"
     ]
    },
    {
     "name": "stdout",
     "output_type": "stream",
     "text": [
      "(2601,)\n",
      "0.17398868408054113\n",
      "0.16636662185192108\n"
     ]
    }
   ],
   "source": [
    "xp_batch, yp_batch = train_dataloader[0]"
   ]
  },
  {
   "cell_type": "code",
   "execution_count": 58,
   "metadata": {},
   "outputs": [
    {
     "data": {
      "text/plain": [
       "(88, 224, 224, 3)"
      ]
     },
     "execution_count": 58,
     "metadata": {},
     "output_type": "execute_result"
    }
   ],
   "source": [
    "xp_batch.shape"
   ]
  },
  {
   "cell_type": "code",
   "execution_count": 14,
   "metadata": {},
   "outputs": [],
   "source": [
    "#joblib.dump(x_batch,'datapreprocessed/x_batch.joblib')\n",
    "#joblib.dump(y_batch,'datapreprocessed/y_batch.joblib')"
   ]
  },
  {
   "cell_type": "code",
   "execution_count": 29,
   "metadata": {},
   "outputs": [],
   "source": [
    "val_dataloader = MILDataloader(\n",
    "            dataset=train_dataset,\n",
    "            augment=True,\n",
    "            shuffle=True,\n",
    "            num_classes=2,\n",
    "            batch_size=1,\n",
    "            snapshot_path=None,\n",
    "            mil_model=model,\n",
    "            mil_patch_size=[224,224],\n",
    "            mil_infer_batch_size=32,\n",
    "            mil_use_em=True,\n",
    "            mil_k=1,\n",
    "            mil_skip_white=True\n",
    "        )"
   ]
  },
  {
   "cell_type": "code",
   "execution_count": 31,
   "metadata": {},
   "outputs": [],
   "source": [
    "\n",
    "model.compile(optimizer='adam', loss='categorical_crossentropy', metrics=['accuracy'])"
   ]
  },
  {
   "cell_type": "code",
   "execution_count": 32,
   "metadata": {},
   "outputs": [
    {
     "name": "stderr",
     "output_type": "stream",
     "text": [
      "JPEGFixupTagsSubsamplingSec: Warning, Auto-corrected former TIFF subsampling values [2,2] to match subsampling values inside JPEG compressed data [2,1].\n",
      "JPEGFixupTagsSubsamplingSec: Warning, Auto-corrected former TIFF subsampling values [2,2] to match subsampling values inside JPEG compressed data [2,1].\n",
      "JPEGFixupTagsSubsamplingSec: Warning, Auto-corrected former TIFF subsampling values [2,2] to match subsampling values inside JPEG compressed data [2,1].\n",
      "JPEGFixupTagsSubsamplingSec: Warning, Auto-corrected former TIFF subsampling values [2,2] to match subsampling values inside JPEG compressed data [2,1].\n",
      "JPEGFixupTagsSubsamplingSec: Warning, Auto-corrected former TIFF subsampling values [2,2] to match subsampling values inside JPEG compressed data [2,1].\n",
      "JPEGFixupTagsSubsamplingSec: Warning, Auto-corrected former TIFF subsampling values [2,2] to match subsampling values inside JPEG compressed data [2,1].\n",
      "JPEGFixupTagsSubsamplingSec: Warning, Auto-corrected former TIFF subsampling values [2,2] to match subsampling values inside JPEG compressed data [2,1].\n",
      "JPEGFixupTagsSubsamplingSec: Warning, Auto-corrected former TIFF subsampling values [2,2] to match subsampling values inside JPEG compressed data [2,1].\n",
      "JPEGFixupTagsSubsamplingSec: Warning, Auto-corrected former TIFF subsampling values [2,2] to match subsampling values inside JPEG compressed data [2,1].\n"
     ]
    },
    {
     "name": "stdout",
     "output_type": "stream",
     "text": [
      "(25,)\n",
      "0.5702712647616862\n",
      "0.46669523417949677\n"
     ]
    },
    {
     "name": "stderr",
     "output_type": "stream",
     "text": [
      "JPEGFixupTagsSubsamplingSec: Warning, Auto-corrected former TIFF subsampling values [2,2] to match subsampling values inside JPEG compressed data [2,1].\n",
      "JPEGFixupTagsSubsamplingSec: Warning, Auto-corrected former TIFF subsampling values [2,2] to match subsampling values inside JPEG compressed data [2,1].\n",
      "JPEGFixupTagsSubsamplingSec: Warning, Auto-corrected former TIFF subsampling values [2,2] to match subsampling values inside JPEG compressed data [2,1].\n",
      "JPEGFixupTagsSubsamplingSec: Warning, Auto-corrected former TIFF subsampling values [2,2] to match subsampling values inside JPEG compressed data [2,1].\n",
      "JPEGFixupTagsSubsamplingSec: Warning, Auto-corrected former TIFF subsampling values [2,2] to match subsampling values inside JPEG compressed data [2,1].\n",
      "JPEGFixupTagsSubsamplingSec: Warning, Auto-corrected former TIFF subsampling values [2,2] to match subsampling values inside JPEG compressed data [2,1].\n",
      "JPEGFixupTagsSubsamplingSec: Warning, Auto-corrected former TIFF subsampling values [2,2] to match subsampling values inside JPEG compressed data [2,1].\n",
      "JPEGFixupTagsSubsamplingSec: Warning, Auto-corrected former TIFF subsampling values [2,2] to match subsampling values inside JPEG compressed data [2,1].\n",
      "JPEGFixupTagsSubsamplingSec: Warning, Auto-corrected former TIFF subsampling values [2,2] to match subsampling values inside JPEG compressed data [2,1].\n"
     ]
    },
    {
     "name": "stdout",
     "output_type": "stream",
     "text": [
      "(55,)\n",
      "0.6254698311537504\n",
      "0.5770432226359844\n",
      "Epoch 1/2\n"
     ]
    },
    {
     "name": "stderr",
     "output_type": "stream",
     "text": [
      "/home/ubuntu/Breast-Classified/tensorflow-gpu/lib/python3.10/site-packages/keras/src/trainers/data_adapters/py_dataset_adapter.py:121: UserWarning: Your `PyDataset` class should call `super().__init__(**kwargs)` in its constructor. `**kwargs` can include `workers`, `use_multiprocessing`, `max_queue_size`. Do not pass these arguments to `fit()`, as they will be ignored.\n",
      "  self._warn_if_super_not_called()\n",
      "JPEGFixupTagsSubsamplingSec: Warning, Auto-corrected former TIFF subsampling values [2,2] to match subsampling values inside JPEG compressed data [2,1].\n",
      "JPEGFixupTagsSubsamplingSec: Warning, Auto-corrected former TIFF subsampling values [2,2] to match subsampling values inside JPEG compressed data [2,1].\n",
      "JPEGFixupTagsSubsamplingSec: Warning, Auto-corrected former TIFF subsampling values [2,2] to match subsampling values inside JPEG compressed data [2,1].\n",
      "JPEGFixupTagsSubsamplingSec: Warning, Auto-corrected former TIFF subsampling values [2,2] to match subsampling values inside JPEG compressed data [2,1].\n",
      "JPEGFixupTagsSubsamplingSec: Warning, Auto-corrected former TIFF subsampling values [2,2] to match subsampling values inside JPEG compressed data [2,1].\n",
      "JPEGFixupTagsSubsamplingSec: Warning, Auto-corrected former TIFF subsampling values [2,2] to match subsampling values inside JPEG compressed data [2,1].\n",
      "JPEGFixupTagsSubsamplingSec: Warning, Auto-corrected former TIFF subsampling values [2,2] to match subsampling values inside JPEG compressed data [2,1].\n",
      "JPEGFixupTagsSubsamplingSec: Warning, Auto-corrected former TIFF subsampling values [2,2] to match subsampling values inside JPEG compressed data [2,1].\n",
      "JPEGFixupTagsSubsamplingSec: Warning, Auto-corrected former TIFF subsampling values [2,2] to match subsampling values inside JPEG compressed data [2,1].\n"
     ]
    },
    {
     "name": "stdout",
     "output_type": "stream",
     "text": [
      "(25,)\n",
      "0.5796950630843639\n",
      "0.5023084096610546\n"
     ]
    },
    {
     "name": "stderr",
     "output_type": "stream",
     "text": [
      "JPEGFixupTagsSubsamplingSec: Warning, Auto-corrected former TIFF subsampling values [2,2] to match subsampling values inside JPEG compressed data [2,1].\n",
      "JPEGFixupTagsSubsamplingSec: Warning, Auto-corrected former TIFF subsampling values [2,2] to match subsampling values inside JPEG compressed data [2,1].\n",
      "JPEGFixupTagsSubsamplingSec: Warning, Auto-corrected former TIFF subsampling values [2,2] to match subsampling values inside JPEG compressed data [2,1].\n",
      "JPEGFixupTagsSubsamplingSec: Warning, Auto-corrected former TIFF subsampling values [2,2] to match subsampling values inside JPEG compressed data [2,1].\n",
      "JPEGFixupTagsSubsamplingSec: Warning, Auto-corrected former TIFF subsampling values [2,2] to match subsampling values inside JPEG compressed data [2,1].\n",
      "JPEGFixupTagsSubsamplingSec: Warning, Auto-corrected former TIFF subsampling values [2,2] to match subsampling values inside JPEG compressed data [2,1].\n",
      "JPEGFixupTagsSubsamplingSec: Warning, Auto-corrected former TIFF subsampling values [2,2] to match subsampling values inside JPEG compressed data [2,1].\n",
      "JPEGFixupTagsSubsamplingSec: Warning, Auto-corrected former TIFF subsampling values [2,2] to match subsampling values inside JPEG compressed data [2,1].\n",
      "JPEGFixupTagsSubsamplingSec: Warning, Auto-corrected former TIFF subsampling values [2,2] to match subsampling values inside JPEG compressed data [2,1].\n"
     ]
    },
    {
     "name": "stdout",
     "output_type": "stream",
     "text": [
      "\u001b[1m 1/15\u001b[0m \u001b[32m━\u001b[0m\u001b[37m━━━━━━━━━━━━━━━━━━━\u001b[0m \u001b[1m3:47\u001b[0m 16s/step - accuracy: 1.0000 - loss: 0.4762(53,)\n",
      "0.6187748371064663\n",
      "0.5571570880711079\n"
     ]
    },
    {
     "name": "stderr",
     "output_type": "stream",
     "text": [
      "JPEGFixupTagsSubsamplingSec: Warning, Auto-corrected former TIFF subsampling values [2,2] to match subsampling values inside JPEG compressed data [2,1].\n",
      "JPEGFixupTagsSubsamplingSec: Warning, Auto-corrected former TIFF subsampling values [2,2] to match subsampling values inside JPEG compressed data [2,1].\n",
      "JPEGFixupTagsSubsamplingSec: Warning, Auto-corrected former TIFF subsampling values [2,2] to match subsampling values inside JPEG compressed data [2,1].\n",
      "JPEGFixupTagsSubsamplingSec: Warning, Auto-corrected former TIFF subsampling values [2,2] to match subsampling values inside JPEG compressed data [2,1].\n",
      "JPEGFixupTagsSubsamplingSec: Warning, Auto-corrected former TIFF subsampling values [2,2] to match subsampling values inside JPEG compressed data [2,1].\n",
      "JPEGFixupTagsSubsamplingSec: Warning, Auto-corrected former TIFF subsampling values [2,2] to match subsampling values inside JPEG compressed data [2,1].\n",
      "JPEGFixupTagsSubsamplingSec: Warning, Auto-corrected former TIFF subsampling values [2,2] to match subsampling values inside JPEG compressed data [2,1].\n",
      "JPEGFixupTagsSubsamplingSec: Warning, Auto-corrected former TIFF subsampling values [2,2] to match subsampling values inside JPEG compressed data [2,1].\n",
      "JPEGFixupTagsSubsamplingSec: Warning, Auto-corrected former TIFF subsampling values [2,2] to match subsampling values inside JPEG compressed data [2,1].\n"
     ]
    },
    {
     "name": "stdout",
     "output_type": "stream",
     "text": [
      "\u001b[1m 2/15\u001b[0m \u001b[32m━━\u001b[0m\u001b[37m━━━━━━━━━━━━━━━━━━\u001b[0m \u001b[1m1:46\u001b[0m 8s/step - accuracy: 1.0000 - loss: 0.3191 (42,)\n",
      "0.6265433621406554\n",
      "0.5370648711919784\n"
     ]
    },
    {
     "name": "stderr",
     "output_type": "stream",
     "text": [
      "JPEGFixupTagsSubsamplingSec: Warning, Auto-corrected former TIFF subsampling values [2,2] to match subsampling values inside JPEG compressed data [2,1].\n",
      "JPEGFixupTagsSubsamplingSec: Warning, Auto-corrected former TIFF subsampling values [2,2] to match subsampling values inside JPEG compressed data [2,1].\n",
      "JPEGFixupTagsSubsamplingSec: Warning, Auto-corrected former TIFF subsampling values [2,2] to match subsampling values inside JPEG compressed data [2,1].\n",
      "JPEGFixupTagsSubsamplingSec: Warning, Auto-corrected former TIFF subsampling values [2,2] to match subsampling values inside JPEG compressed data [2,1].\n",
      "JPEGFixupTagsSubsamplingSec: Warning, Auto-corrected former TIFF subsampling values [2,2] to match subsampling values inside JPEG compressed data [2,1].\n",
      "JPEGFixupTagsSubsamplingSec: Warning, Auto-corrected former TIFF subsampling values [2,2] to match subsampling values inside JPEG compressed data [2,1].\n",
      "JPEGFixupTagsSubsamplingSec: Warning, Auto-corrected former TIFF subsampling values [2,2] to match subsampling values inside JPEG compressed data [2,1].\n",
      "JPEGFixupTagsSubsamplingSec: Warning, Auto-corrected former TIFF subsampling values [2,2] to match subsampling values inside JPEG compressed data [2,1].\n",
      "JPEGFixupTagsSubsamplingSec: Warning, Auto-corrected former TIFF subsampling values [2,2] to match subsampling values inside JPEG compressed data [2,1].\n"
     ]
    },
    {
     "name": "stdout",
     "output_type": "stream",
     "text": [
      "\u001b[1m 3/15\u001b[0m \u001b[32m━━━━\u001b[0m\u001b[37m━━━━━━━━━━━━━━━━\u001b[0m \u001b[1m1:39\u001b[0m 8s/step - accuracy: 0.8829 - loss: 1.4037(42,)\n",
      "0.6050781553983686\n",
      "0.4663042608648539\n",
      "\u001b[1m 4/15\u001b[0m \u001b[32m━━━━━\u001b[0m\u001b[37m━━━━━━━━━━━━━━━\u001b[0m \u001b[1m1:18\u001b[0m 7s/step - accuracy: 0.7822 - loss: 2.1977"
     ]
    },
    {
     "name": "stderr",
     "output_type": "stream",
     "text": [
      "JPEGFixupTagsSubsamplingSec: Warning, Auto-corrected former TIFF subsampling values [2,2] to match subsampling values inside JPEG compressed data [2,1].\n",
      "JPEGFixupTagsSubsamplingSec: Warning, Auto-corrected former TIFF subsampling values [2,2] to match subsampling values inside JPEG compressed data [2,1].\n",
      "JPEGFixupTagsSubsamplingSec: Warning, Auto-corrected former TIFF subsampling values [2,2] to match subsampling values inside JPEG compressed data [2,1].\n",
      "JPEGFixupTagsSubsamplingSec: Warning, Auto-corrected former TIFF subsampling values [2,2] to match subsampling values inside JPEG compressed data [2,1].\n",
      "JPEGFixupTagsSubsamplingSec: Warning, Auto-corrected former TIFF subsampling values [2,2] to match subsampling values inside JPEG compressed data [2,1].\n",
      "JPEGFixupTagsSubsamplingSec: Warning, Auto-corrected former TIFF subsampling values [2,2] to match subsampling values inside JPEG compressed data [2,1].\n",
      "JPEGFixupTagsSubsamplingSec: Warning, Auto-corrected former TIFF subsampling values [2,2] to match subsampling values inside JPEG compressed data [2,1].\n",
      "JPEGFixupTagsSubsamplingSec: Warning, Auto-corrected former TIFF subsampling values [2,2] to match subsampling values inside JPEG compressed data [2,1].\n",
      "JPEGFixupTagsSubsamplingSec: Warning, Auto-corrected former TIFF subsampling values [2,2] to match subsampling values inside JPEG compressed data [2,1].\n"
     ]
    },
    {
     "name": "stdout",
     "output_type": "stream",
     "text": [
      "(45,)\n",
      "0.623147184252739\n",
      "0.5777434974908828\n"
     ]
    },
    {
     "name": "stderr",
     "output_type": "stream",
     "text": [
      "JPEGFixupTagsSubsamplingSec: Warning, Auto-corrected former TIFF subsampling values [2,2] to match subsampling values inside JPEG compressed data [2,1].\n",
      "JPEGFixupTagsSubsamplingSec: Warning, Auto-corrected former TIFF subsampling values [2,2] to match subsampling values inside JPEG compressed data [2,1].\n",
      "JPEGFixupTagsSubsamplingSec: Warning, Auto-corrected former TIFF subsampling values [2,2] to match subsampling values inside JPEG compressed data [2,1].\n",
      "JPEGFixupTagsSubsamplingSec: Warning, Auto-corrected former TIFF subsampling values [2,2] to match subsampling values inside JPEG compressed data [2,1].\n",
      "JPEGFixupTagsSubsamplingSec: Warning, Auto-corrected former TIFF subsampling values [2,2] to match subsampling values inside JPEG compressed data [2,1].\n",
      "JPEGFixupTagsSubsamplingSec: Warning, Auto-corrected former TIFF subsampling values [2,2] to match subsampling values inside JPEG compressed data [2,1].\n",
      "JPEGFixupTagsSubsamplingSec: Warning, Auto-corrected former TIFF subsampling values [2,2] to match subsampling values inside JPEG compressed data [2,1].\n",
      "JPEGFixupTagsSubsamplingSec: Warning, Auto-corrected former TIFF subsampling values [2,2] to match subsampling values inside JPEG compressed data [2,1].\n",
      "JPEGFixupTagsSubsamplingSec: Warning, Auto-corrected former TIFF subsampling values [2,2] to match subsampling values inside JPEG compressed data [2,1].\n"
     ]
    },
    {
     "name": "stdout",
     "output_type": "stream",
     "text": [
      "\u001b[1m 5/15\u001b[0m \u001b[32m━━━━━━\u001b[0m\u001b[37m━━━━━━━━━━━━━━\u001b[0m \u001b[1m1:20\u001b[0m 8s/step - accuracy: 0.7007 - loss: 2.6661(52,)\n",
      "0.5934788331389427\n",
      "0.508208804577589\n",
      "\u001b[1m 6/15\u001b[0m \u001b[32m━━━━━━━━\u001b[0m\u001b[37m━━━━━━━━━━━━\u001b[0m \u001b[1m1:07\u001b[0m 8s/step - accuracy: 0.6673 - loss: 2.8396"
     ]
    },
    {
     "name": "stderr",
     "output_type": "stream",
     "text": [
      "JPEGFixupTagsSubsamplingSec: Warning, Auto-corrected former TIFF subsampling values [2,2] to match subsampling values inside JPEG compressed data [2,1].\n",
      "JPEGFixupTagsSubsamplingSec: Warning, Auto-corrected former TIFF subsampling values [2,2] to match subsampling values inside JPEG compressed data [2,1].\n",
      "JPEGFixupTagsSubsamplingSec: Warning, Auto-corrected former TIFF subsampling values [2,2] to match subsampling values inside JPEG compressed data [2,1].\n",
      "JPEGFixupTagsSubsamplingSec: Warning, Auto-corrected former TIFF subsampling values [2,2] to match subsampling values inside JPEG compressed data [2,1].\n",
      "JPEGFixupTagsSubsamplingSec: Warning, Auto-corrected former TIFF subsampling values [2,2] to match subsampling values inside JPEG compressed data [2,1].\n",
      "JPEGFixupTagsSubsamplingSec: Warning, Auto-corrected former TIFF subsampling values [2,2] to match subsampling values inside JPEG compressed data [2,1].\n",
      "JPEGFixupTagsSubsamplingSec: Warning, Auto-corrected former TIFF subsampling values [2,2] to match subsampling values inside JPEG compressed data [2,1].\n",
      "JPEGFixupTagsSubsamplingSec: Warning, Auto-corrected former TIFF subsampling values [2,2] to match subsampling values inside JPEG compressed data [2,1].\n",
      "JPEGFixupTagsSubsamplingSec: Warning, Auto-corrected former TIFF subsampling values [2,2] to match subsampling values inside JPEG compressed data [2,1].\n"
     ]
    },
    {
     "name": "stdout",
     "output_type": "stream",
     "text": [
      "(47,)\n",
      "0.623859164789319\n",
      "0.5888094574213026\n",
      "\u001b[1m 7/15\u001b[0m \u001b[32m━━━━━━━━━\u001b[0m\u001b[37m━━━━━━━━━━━\u001b[0m \u001b[1m1:00\u001b[0m 8s/step - accuracy: 0.6540 - loss: 2.8894"
     ]
    },
    {
     "name": "stderr",
     "output_type": "stream",
     "text": [
      "JPEGFixupTagsSubsamplingSec: Warning, Auto-corrected former TIFF subsampling values [2,2] to match subsampling values inside JPEG compressed data [2,1].\n",
      "JPEGFixupTagsSubsamplingSec: Warning, Auto-corrected former TIFF subsampling values [2,2] to match subsampling values inside JPEG compressed data [2,1].\n",
      "JPEGFixupTagsSubsamplingSec: Warning, Auto-corrected former TIFF subsampling values [2,2] to match subsampling values inside JPEG compressed data [2,1].\n",
      "JPEGFixupTagsSubsamplingSec: Warning, Auto-corrected former TIFF subsampling values [2,2] to match subsampling values inside JPEG compressed data [2,1].\n",
      "JPEGFixupTagsSubsamplingSec: Warning, Auto-corrected former TIFF subsampling values [2,2] to match subsampling values inside JPEG compressed data [2,1].\n",
      "JPEGFixupTagsSubsamplingSec: Warning, Auto-corrected former TIFF subsampling values [2,2] to match subsampling values inside JPEG compressed data [2,1].\n",
      "JPEGFixupTagsSubsamplingSec: Warning, Auto-corrected former TIFF subsampling values [2,2] to match subsampling values inside JPEG compressed data [2,1].\n",
      "JPEGFixupTagsSubsamplingSec: Warning, Auto-corrected former TIFF subsampling values [2,2] to match subsampling values inside JPEG compressed data [2,1].\n",
      "JPEGFixupTagsSubsamplingSec: Warning, Auto-corrected former TIFF subsampling values [2,2] to match subsampling values inside JPEG compressed data [2,1].\n"
     ]
    },
    {
     "name": "stdout",
     "output_type": "stream",
     "text": [
      "(33,)\n",
      "0.5891037540137768\n",
      "0.5041726388037204\n"
     ]
    },
    {
     "name": "stderr",
     "output_type": "stream",
     "text": [
      "JPEGFixupTagsSubsamplingSec: Warning, Auto-corrected former TIFF subsampling values [2,2] to match subsampling values inside JPEG compressed data [2,1].\n",
      "JPEGFixupTagsSubsamplingSec: Warning, Auto-corrected former TIFF subsampling values [2,2] to match subsampling values inside JPEG compressed data [2,1].\n",
      "JPEGFixupTagsSubsamplingSec: Warning, Auto-corrected former TIFF subsampling values [2,2] to match subsampling values inside JPEG compressed data [2,1].\n",
      "JPEGFixupTagsSubsamplingSec: Warning, Auto-corrected former TIFF subsampling values [2,2] to match subsampling values inside JPEG compressed data [2,1].\n",
      "JPEGFixupTagsSubsamplingSec: Warning, Auto-corrected former TIFF subsampling values [2,2] to match subsampling values inside JPEG compressed data [2,1].\n",
      "JPEGFixupTagsSubsamplingSec: Warning, Auto-corrected former TIFF subsampling values [2,2] to match subsampling values inside JPEG compressed data [2,1].\n",
      "JPEGFixupTagsSubsamplingSec: Warning, Auto-corrected former TIFF subsampling values [2,2] to match subsampling values inside JPEG compressed data [2,1].\n",
      "JPEGFixupTagsSubsamplingSec: Warning, Auto-corrected former TIFF subsampling values [2,2] to match subsampling values inside JPEG compressed data [2,1].\n",
      "JPEGFixupTagsSubsamplingSec: Warning, Auto-corrected former TIFF subsampling values [2,2] to match subsampling values inside JPEG compressed data [2,1].\n"
     ]
    },
    {
     "name": "stdout",
     "output_type": "stream",
     "text": [
      "\u001b[1m 8/15\u001b[0m \u001b[32m━━━━━━━━━━\u001b[0m\u001b[37m━━━━━━━━━━\u001b[0m \u001b[1m56s\u001b[0m 8s/step - accuracy: 0.6372 - loss: 2.9323 (87,)\n",
      "0.6218411773443222\n",
      "0.609476437419653\n"
     ]
    },
    {
     "name": "stderr",
     "output_type": "stream",
     "text": [
      "JPEGFixupTagsSubsamplingSec: Warning, Auto-corrected former TIFF subsampling values [2,2] to match subsampling values inside JPEG compressed data [2,1].\n",
      "JPEGFixupTagsSubsamplingSec: Warning, Auto-corrected former TIFF subsampling values [2,2] to match subsampling values inside JPEG compressed data [2,1].\n",
      "JPEGFixupTagsSubsamplingSec: Warning, Auto-corrected former TIFF subsampling values [2,2] to match subsampling values inside JPEG compressed data [2,1].\n",
      "JPEGFixupTagsSubsamplingSec: Warning, Auto-corrected former TIFF subsampling values [2,2] to match subsampling values inside JPEG compressed data [2,1].\n",
      "JPEGFixupTagsSubsamplingSec: Warning, Auto-corrected former TIFF subsampling values [2,2] to match subsampling values inside JPEG compressed data [2,1].\n",
      "JPEGFixupTagsSubsamplingSec: Warning, Auto-corrected former TIFF subsampling values [2,2] to match subsampling values inside JPEG compressed data [2,1].\n",
      "JPEGFixupTagsSubsamplingSec: Warning, Auto-corrected former TIFF subsampling values [2,2] to match subsampling values inside JPEG compressed data [2,1].\n",
      "JPEGFixupTagsSubsamplingSec: Warning, Auto-corrected former TIFF subsampling values [2,2] to match subsampling values inside JPEG compressed data [2,1].\n",
      "JPEGFixupTagsSubsamplingSec: Warning, Auto-corrected former TIFF subsampling values [2,2] to match subsampling values inside JPEG compressed data [2,1].\n"
     ]
    },
    {
     "name": "stdout",
     "output_type": "stream",
     "text": [
      "\u001b[1m 9/15\u001b[0m \u001b[32m━━━━━━━━━━━━\u001b[0m\u001b[37m━━━━━━━━\u001b[0m \u001b[1m48s\u001b[0m 8s/step - accuracy: 0.6125 - loss: 2.9861(2601,)\n",
      "0.6205492839217186\n",
      "0.6183649301528931\n"
     ]
    },
    {
     "name": "stderr",
     "output_type": "stream",
     "text": [
      "JPEGFixupTagsSubsamplingSec: Warning, Auto-corrected former TIFF subsampling values [2,2] to match subsampling values inside JPEG compressed data [2,1].\n",
      "JPEGFixupTagsSubsamplingSec: Warning, Auto-corrected former TIFF subsampling values [2,2] to match subsampling values inside JPEG compressed data [2,1].\n",
      "JPEGFixupTagsSubsamplingSec: Warning, Auto-corrected former TIFF subsampling values [2,2] to match subsampling values inside JPEG compressed data [2,1].\n",
      "JPEGFixupTagsSubsamplingSec: Warning, Auto-corrected former TIFF subsampling values [2,2] to match subsampling values inside JPEG compressed data [2,1].\n",
      "JPEGFixupTagsSubsamplingSec: Warning, Auto-corrected former TIFF subsampling values [2,2] to match subsampling values inside JPEG compressed data [2,1].\n",
      "JPEGFixupTagsSubsamplingSec: Warning, Auto-corrected former TIFF subsampling values [2,2] to match subsampling values inside JPEG compressed data [2,1].\n",
      "JPEGFixupTagsSubsamplingSec: Warning, Auto-corrected former TIFF subsampling values [2,2] to match subsampling values inside JPEG compressed data [2,1].\n",
      "JPEGFixupTagsSubsamplingSec: Warning, Auto-corrected former TIFF subsampling values [2,2] to match subsampling values inside JPEG compressed data [2,1].\n",
      "JPEGFixupTagsSubsamplingSec: Warning, Auto-corrected former TIFF subsampling values [2,2] to match subsampling values inside JPEG compressed data [2,1].\n"
     ]
    },
    {
     "name": "stdout",
     "output_type": "stream",
     "text": [
      "\u001b[1m10/15\u001b[0m \u001b[32m━━━━━━━━━━━━━\u001b[0m\u001b[37m━━━━━━━\u001b[0m \u001b[1m47s\u001b[0m 10s/step - accuracy: 0.6159 - loss: 2.8951(41,)\n",
      "0.6145135253667832\n",
      "0.5104267597198486\n"
     ]
    },
    {
     "name": "stderr",
     "output_type": "stream",
     "text": [
      "JPEGFixupTagsSubsamplingSec: Warning, Auto-corrected former TIFF subsampling values [2,2] to match subsampling values inside JPEG compressed data [2,1].\n",
      "JPEGFixupTagsSubsamplingSec: Warning, Auto-corrected former TIFF subsampling values [2,2] to match subsampling values inside JPEG compressed data [2,1].\n",
      "JPEGFixupTagsSubsamplingSec: Warning, Auto-corrected former TIFF subsampling values [2,2] to match subsampling values inside JPEG compressed data [2,1].\n",
      "JPEGFixupTagsSubsamplingSec: Warning, Auto-corrected former TIFF subsampling values [2,2] to match subsampling values inside JPEG compressed data [2,1].\n",
      "JPEGFixupTagsSubsamplingSec: Warning, Auto-corrected former TIFF subsampling values [2,2] to match subsampling values inside JPEG compressed data [2,1].\n",
      "JPEGFixupTagsSubsamplingSec: Warning, Auto-corrected former TIFF subsampling values [2,2] to match subsampling values inside JPEG compressed data [2,1].\n",
      "JPEGFixupTagsSubsamplingSec: Warning, Auto-corrected former TIFF subsampling values [2,2] to match subsampling values inside JPEG compressed data [2,1].\n",
      "JPEGFixupTagsSubsamplingSec: Warning, Auto-corrected former TIFF subsampling values [2,2] to match subsampling values inside JPEG compressed data [2,1].\n",
      "JPEGFixupTagsSubsamplingSec: Warning, Auto-corrected former TIFF subsampling values [2,2] to match subsampling values inside JPEG compressed data [2,1].\n"
     ]
    },
    {
     "name": "stdout",
     "output_type": "stream",
     "text": [
      "\u001b[1m11/15\u001b[0m \u001b[32m━━━━━━━━━━━━━━\u001b[0m\u001b[37m━━━━━━\u001b[0m \u001b[1m35s\u001b[0m 9s/step - accuracy: 0.6204 - loss: 2.8109 (55,)\n",
      "0.5979733199626208\n",
      "0.5020376272499562\n"
     ]
    },
    {
     "name": "stderr",
     "output_type": "stream",
     "text": [
      "JPEGFixupTagsSubsamplingSec: Warning, Auto-corrected former TIFF subsampling values [2,2] to match subsampling values inside JPEG compressed data [2,1].\n",
      "JPEGFixupTagsSubsamplingSec: Warning, Auto-corrected former TIFF subsampling values [2,2] to match subsampling values inside JPEG compressed data [2,1].\n",
      "JPEGFixupTagsSubsamplingSec: Warning, Auto-corrected former TIFF subsampling values [2,2] to match subsampling values inside JPEG compressed data [2,1].\n",
      "JPEGFixupTagsSubsamplingSec: Warning, Auto-corrected former TIFF subsampling values [2,2] to match subsampling values inside JPEG compressed data [2,1].\n",
      "JPEGFixupTagsSubsamplingSec: Warning, Auto-corrected former TIFF subsampling values [2,2] to match subsampling values inside JPEG compressed data [2,1].\n",
      "JPEGFixupTagsSubsamplingSec: Warning, Auto-corrected former TIFF subsampling values [2,2] to match subsampling values inside JPEG compressed data [2,1].\n",
      "JPEGFixupTagsSubsamplingSec: Warning, Auto-corrected former TIFF subsampling values [2,2] to match subsampling values inside JPEG compressed data [2,1].\n",
      "JPEGFixupTagsSubsamplingSec: Warning, Auto-corrected former TIFF subsampling values [2,2] to match subsampling values inside JPEG compressed data [2,1].\n",
      "JPEGFixupTagsSubsamplingSec: Warning, Auto-corrected former TIFF subsampling values [2,2] to match subsampling values inside JPEG compressed data [2,1].\n"
     ]
    },
    {
     "name": "stdout",
     "output_type": "stream",
     "text": [
      "\u001b[1m12/15\u001b[0m \u001b[32m━━━━━━━━━━━━━━━━\u001b[0m\u001b[37m━━━━\u001b[0m \u001b[1m26s\u001b[0m 9s/step - accuracy: 0.6203 - loss: 2.7483(2601,)\n",
      "0.6218292526900768\n",
      "0.6185158491134644\n"
     ]
    },
    {
     "name": "stderr",
     "output_type": "stream",
     "text": [
      "JPEGFixupTagsSubsamplingSec: Warning, Auto-corrected former TIFF subsampling values [2,2] to match subsampling values inside JPEG compressed data [2,1].\n",
      "JPEGFixupTagsSubsamplingSec: Warning, Auto-corrected former TIFF subsampling values [2,2] to match subsampling values inside JPEG compressed data [2,1].\n",
      "JPEGFixupTagsSubsamplingSec: Warning, Auto-corrected former TIFF subsampling values [2,2] to match subsampling values inside JPEG compressed data [2,1].\n",
      "JPEGFixupTagsSubsamplingSec: Warning, Auto-corrected former TIFF subsampling values [2,2] to match subsampling values inside JPEG compressed data [2,1].\n",
      "JPEGFixupTagsSubsamplingSec: Warning, Auto-corrected former TIFF subsampling values [2,2] to match subsampling values inside JPEG compressed data [2,1].\n",
      "JPEGFixupTagsSubsamplingSec: Warning, Auto-corrected former TIFF subsampling values [2,2] to match subsampling values inside JPEG compressed data [2,1].\n",
      "JPEGFixupTagsSubsamplingSec: Warning, Auto-corrected former TIFF subsampling values [2,2] to match subsampling values inside JPEG compressed data [2,1].\n",
      "JPEGFixupTagsSubsamplingSec: Warning, Auto-corrected former TIFF subsampling values [2,2] to match subsampling values inside JPEG compressed data [2,1].\n",
      "JPEGFixupTagsSubsamplingSec: Warning, Auto-corrected former TIFF subsampling values [2,2] to match subsampling values inside JPEG compressed data [2,1].\n"
     ]
    },
    {
     "name": "stdout",
     "output_type": "stream",
     "text": [
      "\u001b[1m13/15\u001b[0m \u001b[32m━━━━━━━━━━━━━━━━━\u001b[0m\u001b[37m━━━\u001b[0m \u001b[1m19s\u001b[0m 10s/step - accuracy: 0.6279 - loss: 2.6551(66,)\n",
      "0.6281275831162929\n",
      "0.5859216768294573\n"
     ]
    },
    {
     "name": "stderr",
     "output_type": "stream",
     "text": [
      "JPEGFixupTagsSubsamplingSec: Warning, Auto-corrected former TIFF subsampling values [2,2] to match subsampling values inside JPEG compressed data [2,1].\n",
      "JPEGFixupTagsSubsamplingSec: Warning, Auto-corrected former TIFF subsampling values [2,2] to match subsampling values inside JPEG compressed data [2,1].\n",
      "JPEGFixupTagsSubsamplingSec: Warning, Auto-corrected former TIFF subsampling values [2,2] to match subsampling values inside JPEG compressed data [2,1].\n",
      "JPEGFixupTagsSubsamplingSec: Warning, Auto-corrected former TIFF subsampling values [2,2] to match subsampling values inside JPEG compressed data [2,1].\n",
      "JPEGFixupTagsSubsamplingSec: Warning, Auto-corrected former TIFF subsampling values [2,2] to match subsampling values inside JPEG compressed data [2,1].\n",
      "JPEGFixupTagsSubsamplingSec: Warning, Auto-corrected former TIFF subsampling values [2,2] to match subsampling values inside JPEG compressed data [2,1].\n",
      "JPEGFixupTagsSubsamplingSec: Warning, Auto-corrected former TIFF subsampling values [2,2] to match subsampling values inside JPEG compressed data [2,1].\n",
      "JPEGFixupTagsSubsamplingSec: Warning, Auto-corrected former TIFF subsampling values [2,2] to match subsampling values inside JPEG compressed data [2,1].\n",
      "JPEGFixupTagsSubsamplingSec: Warning, Auto-corrected former TIFF subsampling values [2,2] to match subsampling values inside JPEG compressed data [2,1].\n"
     ]
    },
    {
     "name": "stdout",
     "output_type": "stream",
     "text": [
      "\u001b[1m14/15\u001b[0m \u001b[32m━━━━━━━━━━━━━━━━━━\u001b[0m\u001b[37m━━\u001b[0m \u001b[1m9s\u001b[0m 9s/step - accuracy: 0.6316 - loss: 2.5771  (2601,)\n",
      "0.6194553636014462\n",
      "0.6184877157211304\n",
      "\u001b[1m15/15\u001b[0m \u001b[32m━━━━━━━━━━━━━━━━━━━━\u001b[0m\u001b[37m\u001b[0m \u001b[1m154s\u001b[0m 10s/step - accuracy: 0.6446 - loss: 2.4244\n",
      "Epoch 2/2\n",
      "\u001b[1m15/15\u001b[0m \u001b[32m━━━━━━━━━━━━━━━━━━━━\u001b[0m\u001b[37m\u001b[0m \u001b[1m0s\u001b[0m 1ms/step - accuracy: 0.0000e+00 - loss: 0.0000e+00\n"
     ]
    },
    {
     "name": "stderr",
     "output_type": "stream",
     "text": [
      "2024-07-14 16:20:30.632216: W tensorflow/core/framework/local_rendezvous.cc:404] Local rendezvous is aborting with status: OUT_OF_RANGE: End of sequence\n",
      "\t [[{{node IteratorGetNext}}]]\n",
      "2024-07-14 16:20:30.632518: W tensorflow/core/framework/local_rendezvous.cc:404] Local rendezvous is aborting with status: OUT_OF_RANGE: End of sequence\n",
      "\t [[{{node IteratorGetNext}}]]\n",
      "\t [[IteratorGetNext/_4]]\n",
      "/usr/local/lib/python3.10/contextlib.py:153: UserWarning: Your input ran out of data; interrupting training. Make sure that your dataset or generator can generate at least `steps_per_epoch * epochs` batches. You may need to use the `.repeat()` function when building your dataset.\n",
      "  self.gen.throw(typ, value, traceback)\n"
     ]
    }
   ],
   "source": [
    "history=model.fit(\n",
    "            train_dataloader,\n",
    "            epochs=2,\n",
    "            steps_per_epoch=15,\n",
    "            shuffle=False, # Shuffling is already done in dataloader\n",
    "        )"
   ]
  },
  {
   "cell_type": "code",
   "execution_count": 18,
   "metadata": {},
   "outputs": [],
   "source": [
    "import matplotlib.pyplot as plt"
   ]
  },
  {
   "cell_type": "code",
   "execution_count": 33,
   "metadata": {},
   "outputs": [
    {
     "data": {
      "text/plain": [
       "Text(0.5, 0, 'epoch')"
      ]
     },
     "execution_count": 33,
     "metadata": {},
     "output_type": "execute_result"
    },
    {
     "data": {
      "image/png": "[encoded data removed]",
      "text/plain": [
       "<Figure size 640x480 with 1 Axes>"
      ]
     },
     "metadata": {},
     "output_type": "display_data"
    }
   ],
   "source": [
    "plt.plot(history.history['loss']) \n",
    "plt.legend(['training_loss']) \n",
    "plt.title('Loss') \n",
    "plt.xlabel('epoch')"
   ]
  },
  {
   "cell_type": "code",
   "execution_count": 21,
   "metadata": {},
   "outputs": [
    {
     "data": {
      "text/plain": [
       "Text(0.5, 0, 'epoch')"
      ]
     },
     "execution_count": 21,
     "metadata": {},
     "output_type": "execute_result"
    },
    {
     "data": {
      "image/png": "[encoded data removed]",
      "text/plain": [
       "<Figure size 640x480 with 1 Axes>"
      ]
     },
     "metadata": {},
     "output_type": "display_data"
    }
   ],
   "source": [
    "plt.plot(history.history['accuracy']) \n",
    "plt.legend(['training_acc']) \n",
    "plt.title('acc') \n",
    "plt.xlabel('epoch')"
   ]
  }
 ],
 "metadata": {
  "kernelspec": {
   "display_name": "tensorflow-gpu",
   "language": "python",
   "name": "python3"
  },
  "language_info": {
   "codemirror_mode": {
    "name": "ipython",
    "version": 3
   },
   "file_extension": ".py",
   "mimetype": "text/x-python",
   "name": "python",
   "nbconvert_exporter": "python",
   "pygments_lexer": "ipython3",
   "version": "3.10.13"
  }
 },
 "nbformat": 4,
 "nbformat_minor": 2
}
